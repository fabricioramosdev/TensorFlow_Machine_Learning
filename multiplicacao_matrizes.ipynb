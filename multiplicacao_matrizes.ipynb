{
  "nbformat": 4,
  "nbformat_minor": 0,
  "metadata": {
    "colab": {
      "name": "multiplicacao_matrizes.ipynb",
      "provenance": [],
      "include_colab_link": true
    },
    "kernelspec": {
      "name": "python3",
      "display_name": "Python 3"
    }
  },
  "cells": [
    {
      "cell_type": "markdown",
      "metadata": {
        "id": "view-in-github",
        "colab_type": "text"
      },
      "source": [
        "<a href=\"https://colab.research.google.com/github/fabricioramosdev/TensorFlow_Machine_Learning/blob/master/multiplicacao_matrizes.ipynb\" target=\"_parent\"><img src=\"https://colab.research.google.com/assets/colab-badge.svg\" alt=\"Open In Colab\"/></a>"
      ]
    },
    {
      "cell_type": "code",
      "metadata": {
        "id": "H6mAp2B7JNIL",
        "colab_type": "code",
        "colab": {}
      },
      "source": [
        "import tensorflow.compat.v1 as tf"
      ],
      "execution_count": 0,
      "outputs": []
    },
    {
      "cell_type": "code",
      "metadata": {
        "id": "_Rymb-oKJhzW",
        "colab_type": "code",
        "colab": {}
      },
      "source": [
        "a = tf.constant([[1,2],[3,4]])\n",
        "b = tf.constant([[-1,3],[4,2]])"
      ],
      "execution_count": 0,
      "outputs": []
    },
    {
      "cell_type": "code",
      "metadata": {
        "id": "Y8OcyQ_4JvkC",
        "colab_type": "code",
        "colab": {}
      },
      "source": [
        "multiplicacao = tf.matmul(a,b)"
      ],
      "execution_count": 0,
      "outputs": []
    },
    {
      "cell_type": "code",
      "metadata": {
        "id": "s0b0RZTvJ8xA",
        "colab_type": "code",
        "colab": {
          "base_uri": "https://localhost:8080/",
          "height": 191
        },
        "outputId": "79b2396e-b440-4c5a-bcf0-295b102d3f51"
      },
      "source": [
        "with tf.Session() as sess:\n",
        "  print(sess.run(a))\n",
        "  print('\\n')\n",
        "  print(sess.run(b))\n",
        "  print('\\n')\n",
        "  print(sess.run(multiplicacao))"
      ],
      "execution_count": 8,
      "outputs": [
        {
          "output_type": "stream",
          "text": [
            "[[1 2]\n",
            " [3 4]]\n",
            "\n",
            "\n",
            "[[-1  3]\n",
            " [ 4  2]]\n",
            "\n",
            "\n",
            "[[ 7  7]\n",
            " [13 17]]\n"
          ],
          "name": "stdout"
        }
      ]
    },
    {
      "cell_type": "code",
      "metadata": {
        "id": "VW1SoML2OhaS",
        "colab_type": "code",
        "colab": {
          "base_uri": "https://localhost:8080/",
          "height": 52
        },
        "outputId": "04b0f3fb-f784-4a01-fdee-4e91d5ac8f70"
      },
      "source": [
        "multiplicacao2 = tf.matmul(b,a)\n",
        "with tf.Session() as sess:\n",
        "  print(sess.run(multiplicacao2))"
      ],
      "execution_count": 12,
      "outputs": [
        {
          "output_type": "stream",
          "text": [
            "[[ 8 10]\n",
            " [10 16]]\n"
          ],
          "name": "stdout"
        }
      ]
    },
    {
      "cell_type": "code",
      "metadata": {
        "id": "c2DVAwIoO37R",
        "colab_type": "code",
        "colab": {
          "base_uri": "https://localhost:8080/",
          "height": 225
        },
        "outputId": "6904aa7a-2cfd-4340-c5e2-367e4d3414d6"
      },
      "source": [
        "a1 = tf.constant([[2,3],[0,1],[-1,4]])\n",
        "b1 = tf.constant([[1,2,3],[-2,0,4]])\n",
        "multiplicacao3 = tf.matmul(a1,b1)\n",
        "with tf.Session() as sess:\n",
        "  print(sess.run(a1))\n",
        "  print('\\n')\n",
        "  print(sess.run(b1))\n",
        "  print('\\n')\n",
        "  print(sess.run(multiplicacao3))"
      ],
      "execution_count": 15,
      "outputs": [
        {
          "output_type": "stream",
          "text": [
            "[[ 2  3]\n",
            " [ 0  1]\n",
            " [-1  4]]\n",
            "\n",
            "\n",
            "[[ 1  2  3]\n",
            " [-2  0  4]]\n",
            "\n",
            "\n",
            "[[-4  4 18]\n",
            " [-2  0  4]\n",
            " [-9 -2 13]]\n"
          ],
          "name": "stdout"
        }
      ]
    }
  ]
}