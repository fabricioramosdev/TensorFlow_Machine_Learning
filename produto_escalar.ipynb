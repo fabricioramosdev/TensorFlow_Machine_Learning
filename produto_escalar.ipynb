{
  "nbformat": 4,
  "nbformat_minor": 0,
  "metadata": {
    "colab": {
      "name": "produto_escalar.ipynb",
      "provenance": [],
      "collapsed_sections": [],
      "include_colab_link": true
    },
    "kernelspec": {
      "name": "python3",
      "display_name": "Python 3"
    }
  },
  "cells": [
    {
      "cell_type": "markdown",
      "metadata": {
        "id": "view-in-github",
        "colab_type": "text"
      },
      "source": [
        "<a href=\"https://colab.research.google.com/github/fabricioramosdev/TensorFlow_Machine_Learning/blob/master/produto_escalar.ipynb\" target=\"_parent\"><img src=\"https://colab.research.google.com/assets/colab-badge.svg\" alt=\"Open In Colab\"/></a>"
      ]
    },
    {
      "cell_type": "code",
      "metadata": {
        "id": "rsPPrSXIQSY1",
        "colab_type": "code",
        "colab": {}
      },
      "source": [
        "import tensorflow as tf"
      ],
      "execution_count": 0,
      "outputs": []
    },
    {
      "cell_type": "code",
      "metadata": {
        "id": "dCBonsvkQfDu",
        "colab_type": "code",
        "colab": {
          "base_uri": "https://localhost:8080/",
          "height": 87
        },
        "outputId": "2f984d99-e256-46a5-afd3-ff103d178dea"
      },
      "source": [
        "a = tf.constant([[-1.0,7.0,5.0]], name='entradas')\n",
        "b = tf.constant([[0.8,0.1,0.0]], name='pesos')\n",
        "multiplicacao =  tf.multiply(a,b)\n",
        "soma = tf.reduce_sum(multiplicacao)\n",
        "\n",
        "with tf.Session() as sess:\n",
        "  print(sess.run(a),end='\\n')\n",
        "  print(sess.run(b), end='\\n')\n",
        "  print(sess.run(multiplicacao), end='\\n')\n",
        "  print(sess.run(soma),end='\\n')"
      ],
      "execution_count": 15,
      "outputs": [
        {
          "output_type": "stream",
          "text": [
            "[[-1.  7.  5.]]\n",
            "[[0.8 0.1 0. ]]\n",
            "[[-0.8  0.7  0. ]]\n",
            "-0.100000024\n"
          ],
          "name": "stdout"
        }
      ]
    },
    {
      "cell_type": "code",
      "metadata": {
        "id": "quJvgHXkRVND",
        "colab_type": "code",
        "colab": {}
      },
      "source": [
        ""
      ],
      "execution_count": 0,
      "outputs": []
    }
  ]
}